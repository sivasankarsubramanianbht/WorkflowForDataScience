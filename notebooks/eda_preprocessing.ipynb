{
 "cells": [
  {
   "cell_type": "markdown",
   "id": "cb52548e-dc21-4ce6-9206-21340664766b",
   "metadata": {},
   "source": [
    "#  Import Libraries"
   ]
  },
  {
   "cell_type": "code",
   "execution_count": 1,
   "id": "dbdc344b-68d3-4b46-9bc5-76c94ee79e92",
   "metadata": {},
   "outputs": [],
   "source": [
    "import pandas as pd\n",
    "import numpy as np\n",
    "from sklearn.preprocessing import StandardScaler, OneHotEncoder\n",
    "from sklearn.compose import ColumnTransformer\n",
    "from sklearn.pipeline import Pipeline\n",
    "import matplotlib.pyplot as plt\n",
    "import seaborn as sns"
   ]
  },
  {
   "cell_type": "markdown",
   "id": "10b60172-3575-4ace-94f4-acfbb866409f",
   "metadata": {},
   "source": [
    "# Load Dataset"
   ]
  },
  {
   "cell_type": "code",
   "execution_count": 2,
   "id": "dec27b7f-6b18-434c-96f5-85e126572505",
   "metadata": {},
   "outputs": [
    {
     "name": "stdout",
     "output_type": "stream",
     "text": [
      "Shape before cleaning: (100000, 32)\n"
     ]
    },
    {
     "data": {
      "text/html": [
       "<div>\n",
       "<style scoped>\n",
       "    .dataframe tbody tr th:only-of-type {\n",
       "        vertical-align: middle;\n",
       "    }\n",
       "\n",
       "    .dataframe tbody tr th {\n",
       "        vertical-align: top;\n",
       "    }\n",
       "\n",
       "    .dataframe thead th {\n",
       "        text-align: right;\n",
       "    }\n",
       "</style>\n",
       "<table border=\"1\" class=\"dataframe\">\n",
       "  <thead>\n",
       "    <tr style=\"text-align: right;\">\n",
       "      <th></th>\n",
       "      <th>FL_DATE</th>\n",
       "      <th>AIRLINE</th>\n",
       "      <th>AIRLINE_DOT</th>\n",
       "      <th>AIRLINE_CODE</th>\n",
       "      <th>DOT_CODE</th>\n",
       "      <th>FL_NUMBER</th>\n",
       "      <th>ORIGIN</th>\n",
       "      <th>ORIGIN_CITY</th>\n",
       "      <th>DEST</th>\n",
       "      <th>DEST_CITY</th>\n",
       "      <th>...</th>\n",
       "      <th>DIVERTED</th>\n",
       "      <th>CRS_ELAPSED_TIME</th>\n",
       "      <th>ELAPSED_TIME</th>\n",
       "      <th>AIR_TIME</th>\n",
       "      <th>DISTANCE</th>\n",
       "      <th>DELAY_DUE_CARRIER</th>\n",
       "      <th>DELAY_DUE_WEATHER</th>\n",
       "      <th>DELAY_DUE_NAS</th>\n",
       "      <th>DELAY_DUE_SECURITY</th>\n",
       "      <th>DELAY_DUE_LATE_AIRCRAFT</th>\n",
       "    </tr>\n",
       "  </thead>\n",
       "  <tbody>\n",
       "    <tr>\n",
       "      <th>0</th>\n",
       "      <td>2019-03-01</td>\n",
       "      <td>Allegiant Air</td>\n",
       "      <td>Allegiant Air: G4</td>\n",
       "      <td>G4</td>\n",
       "      <td>20368</td>\n",
       "      <td>1668</td>\n",
       "      <td>PGD</td>\n",
       "      <td>Punta Gorda, FL</td>\n",
       "      <td>SPI</td>\n",
       "      <td>Springfield, IL</td>\n",
       "      <td>...</td>\n",
       "      <td>0.0</td>\n",
       "      <td>160.0</td>\n",
       "      <td>138.0</td>\n",
       "      <td>122.0</td>\n",
       "      <td>994.0</td>\n",
       "      <td>NaN</td>\n",
       "      <td>NaN</td>\n",
       "      <td>NaN</td>\n",
       "      <td>NaN</td>\n",
       "      <td>NaN</td>\n",
       "    </tr>\n",
       "    <tr>\n",
       "      <th>1</th>\n",
       "      <td>2021-02-16</td>\n",
       "      <td>American Airlines Inc.</td>\n",
       "      <td>American Airlines Inc.: AA</td>\n",
       "      <td>AA</td>\n",
       "      <td>19805</td>\n",
       "      <td>2437</td>\n",
       "      <td>DFW</td>\n",
       "      <td>Dallas/Fort Worth, TX</td>\n",
       "      <td>LAX</td>\n",
       "      <td>Los Angeles, CA</td>\n",
       "      <td>...</td>\n",
       "      <td>0.0</td>\n",
       "      <td>211.0</td>\n",
       "      <td>NaN</td>\n",
       "      <td>NaN</td>\n",
       "      <td>1235.0</td>\n",
       "      <td>NaN</td>\n",
       "      <td>NaN</td>\n",
       "      <td>NaN</td>\n",
       "      <td>NaN</td>\n",
       "      <td>NaN</td>\n",
       "    </tr>\n",
       "    <tr>\n",
       "      <th>2</th>\n",
       "      <td>2022-04-12</td>\n",
       "      <td>PSA Airlines Inc.</td>\n",
       "      <td>PSA Airlines Inc.: OH</td>\n",
       "      <td>OH</td>\n",
       "      <td>20397</td>\n",
       "      <td>5560</td>\n",
       "      <td>EWN</td>\n",
       "      <td>New Bern/Morehead/Beaufort, NC</td>\n",
       "      <td>CLT</td>\n",
       "      <td>Charlotte, NC</td>\n",
       "      <td>...</td>\n",
       "      <td>0.0</td>\n",
       "      <td>79.0</td>\n",
       "      <td>78.0</td>\n",
       "      <td>51.0</td>\n",
       "      <td>221.0</td>\n",
       "      <td>NaN</td>\n",
       "      <td>NaN</td>\n",
       "      <td>NaN</td>\n",
       "      <td>NaN</td>\n",
       "      <td>NaN</td>\n",
       "    </tr>\n",
       "    <tr>\n",
       "      <th>3</th>\n",
       "      <td>2021-10-13</td>\n",
       "      <td>Southwest Airlines Co.</td>\n",
       "      <td>Southwest Airlines Co.: WN</td>\n",
       "      <td>WN</td>\n",
       "      <td>19393</td>\n",
       "      <td>1944</td>\n",
       "      <td>ABQ</td>\n",
       "      <td>Albuquerque, NM</td>\n",
       "      <td>DEN</td>\n",
       "      <td>Denver, CO</td>\n",
       "      <td>...</td>\n",
       "      <td>0.0</td>\n",
       "      <td>80.0</td>\n",
       "      <td>71.0</td>\n",
       "      <td>49.0</td>\n",
       "      <td>349.0</td>\n",
       "      <td>10.0</td>\n",
       "      <td>0.0</td>\n",
       "      <td>0.0</td>\n",
       "      <td>0.0</td>\n",
       "      <td>6.0</td>\n",
       "    </tr>\n",
       "    <tr>\n",
       "      <th>4</th>\n",
       "      <td>2022-06-05</td>\n",
       "      <td>Southwest Airlines Co.</td>\n",
       "      <td>Southwest Airlines Co.: WN</td>\n",
       "      <td>WN</td>\n",
       "      <td>19393</td>\n",
       "      <td>3081</td>\n",
       "      <td>PIT</td>\n",
       "      <td>Pittsburgh, PA</td>\n",
       "      <td>STL</td>\n",
       "      <td>St. Louis, MO</td>\n",
       "      <td>...</td>\n",
       "      <td>0.0</td>\n",
       "      <td>105.0</td>\n",
       "      <td>100.0</td>\n",
       "      <td>82.0</td>\n",
       "      <td>554.0</td>\n",
       "      <td>NaN</td>\n",
       "      <td>NaN</td>\n",
       "      <td>NaN</td>\n",
       "      <td>NaN</td>\n",
       "      <td>NaN</td>\n",
       "    </tr>\n",
       "  </tbody>\n",
       "</table>\n",
       "<p>5 rows × 32 columns</p>\n",
       "</div>"
      ],
      "text/plain": [
       "      FL_DATE                 AIRLINE                 AIRLINE_DOT  \\\n",
       "0  2019-03-01           Allegiant Air           Allegiant Air: G4   \n",
       "1  2021-02-16  American Airlines Inc.  American Airlines Inc.: AA   \n",
       "2  2022-04-12       PSA Airlines Inc.       PSA Airlines Inc.: OH   \n",
       "3  2021-10-13  Southwest Airlines Co.  Southwest Airlines Co.: WN   \n",
       "4  2022-06-05  Southwest Airlines Co.  Southwest Airlines Co.: WN   \n",
       "\n",
       "  AIRLINE_CODE  DOT_CODE  FL_NUMBER ORIGIN                     ORIGIN_CITY  \\\n",
       "0           G4     20368       1668    PGD                 Punta Gorda, FL   \n",
       "1           AA     19805       2437    DFW           Dallas/Fort Worth, TX   \n",
       "2           OH     20397       5560    EWN  New Bern/Morehead/Beaufort, NC   \n",
       "3           WN     19393       1944    ABQ                 Albuquerque, NM   \n",
       "4           WN     19393       3081    PIT                  Pittsburgh, PA   \n",
       "\n",
       "  DEST        DEST_CITY  ...  DIVERTED  CRS_ELAPSED_TIME  ELAPSED_TIME  \\\n",
       "0  SPI  Springfield, IL  ...       0.0             160.0         138.0   \n",
       "1  LAX  Los Angeles, CA  ...       0.0             211.0           NaN   \n",
       "2  CLT    Charlotte, NC  ...       0.0              79.0          78.0   \n",
       "3  DEN       Denver, CO  ...       0.0              80.0          71.0   \n",
       "4  STL    St. Louis, MO  ...       0.0             105.0         100.0   \n",
       "\n",
       "   AIR_TIME  DISTANCE  DELAY_DUE_CARRIER  DELAY_DUE_WEATHER  DELAY_DUE_NAS  \\\n",
       "0     122.0     994.0                NaN                NaN            NaN   \n",
       "1       NaN    1235.0                NaN                NaN            NaN   \n",
       "2      51.0     221.0                NaN                NaN            NaN   \n",
       "3      49.0     349.0               10.0                0.0            0.0   \n",
       "4      82.0     554.0                NaN                NaN            NaN   \n",
       "\n",
       "   DELAY_DUE_SECURITY  DELAY_DUE_LATE_AIRCRAFT  \n",
       "0                 NaN                      NaN  \n",
       "1                 NaN                      NaN  \n",
       "2                 NaN                      NaN  \n",
       "3                 0.0                      6.0  \n",
       "4                 NaN                      NaN  \n",
       "\n",
       "[5 rows x 32 columns]"
      ]
     },
     "execution_count": 2,
     "metadata": {},
     "output_type": "execute_result"
    }
   ],
   "source": [
    "file_path = 'C:/Users/aleen/ML_project_flight_delay_prediction/data/flights_sample_100k.csv'\n",
    "df = pd.read_csv(file_path)\n",
    "\n",
    "print(f\"Shape before cleaning: {df.shape}\")\n",
    "df.head()"
   ]
  },
  {
   "cell_type": "markdown",
   "id": "aa4f1bf6-a032-49e6-ad7e-778975d0314d",
   "metadata": {},
   "source": [
    "# Drop Cancelled and Diverted Flights"
   ]
  },
  {
   "cell_type": "code",
   "execution_count": 3,
   "id": "8b4449fa-5b79-4aff-9524-d99666b7d792",
   "metadata": {},
   "outputs": [
    {
     "name": "stdout",
     "output_type": "stream",
     "text": [
      "Shape after removing cancelled and diverted flights: (97148, 32)\n"
     ]
    }
   ],
   "source": [
    "df = df[(df['CANCELLED'] == 0) & (df['DIVERTED'] == 0)].copy()\n",
    "print(f\"Shape after removing cancelled and diverted flights: {df.shape}\")"
   ]
  },
  {
   "cell_type": "markdown",
   "id": "17f33e46-c43f-4956-87ab-5713a2511d79",
   "metadata": {},
   "source": [
    "# Fill Missing Values in Delay Component Columns"
   ]
  },
  {
   "cell_type": "code",
   "execution_count": 4,
   "id": "e58e481a-094c-444b-9c67-dca8830b6da6",
   "metadata": {},
   "outputs": [],
   "source": [
    "delay_cols = [\n",
    "    'DELAY_DUE_CARRIER', 'DELAY_DUE_WEATHER',\n",
    "    'DELAY_DUE_NAS', 'DELAY_DUE_SECURITY', 'DELAY_DUE_LATE_AIRCRAFT'\n",
    "]\n",
    "df[delay_cols] = df[delay_cols].fillna(0)"
   ]
  },
  {
   "cell_type": "markdown",
   "id": "86db9043-1aee-47ce-b070-a51d4287a14c",
   "metadata": {},
   "source": [
    "# Outlier Detection and Removal (IQR Method)"
   ]
  },
  {
   "cell_type": "code",
   "execution_count": 5,
   "id": "09f4e9e2-9cb4-4034-b0c5-b86daff0f6cd",
   "metadata": {},
   "outputs": [
    {
     "name": "stdout",
     "output_type": "stream",
     "text": [
      "Shape before outlier removal: (97148, 32)\n",
      "Shape after outlier removal: (66212, 32)\n"
     ]
    }
   ],
   "source": [
    "def remove_outliers_iqr(dataframe):\n",
    "    df_clean = dataframe.copy()\n",
    "    numeric_cols = df_clean.select_dtypes(include='number').columns\n",
    "    \n",
    "    for col in numeric_cols:\n",
    "        Q1 = df_clean[col].quantile(0.25)\n",
    "        Q3 = df_clean[col].quantile(0.75)\n",
    "        IQR = Q3 - Q1\n",
    "        lower = Q1 - 1.5 * IQR\n",
    "        upper = Q3 + 1.5 * IQR\n",
    "        df_clean = df_clean[(df_clean[col] >= lower) & (df_clean[col] <= upper)]\n",
    "\n",
    "    return df_clean\n",
    "\n",
    "print(f\"Shape before outlier removal: {df.shape}\")\n",
    "df = remove_outliers_iqr(df)\n",
    "print(f\"Shape after outlier removal: {df.shape}\")"
   ]
  },
  {
   "cell_type": "markdown",
   "id": "abc4c579-ca0c-49ca-aff5-ab15280daf43",
   "metadata": {},
   "source": [
    "# Feature Engineering: Time Columns and Date"
   ]
  },
  {
   "cell_type": "code",
   "execution_count": 6,
   "id": "622d468c-ea1f-4c04-b617-0661440c49dd",
   "metadata": {},
   "outputs": [],
   "source": [
    "df['CRS_DEP_HOUR'] = df['CRS_DEP_TIME'].astype(str).str.zfill(4).str[:2].astype(int)\n",
    "df['CRS_ARR_HOUR'] = df['CRS_ARR_TIME'].astype(str).str.zfill(4).str[:2].astype(int)\n",
    "\n",
    "df['FL_DATE'] = pd.to_datetime(df['FL_DATE'], errors='coerce')\n",
    "df['DAY_OF_WEEK'] = df['FL_DATE'].dt.dayofweek\n",
    "\n",
    "# Drop original time/date columns\n",
    "df.drop(columns=['CRS_DEP_TIME', 'CRS_ARR_TIME', 'FL_DATE'], inplace=True)"
   ]
  },
  {
   "cell_type": "markdown",
   "id": "a7eb1266-8611-4832-9df5-cb5fbe7add90",
   "metadata": {},
   "source": [
    "# One-Hot Encoding "
   ]
  },
  {
   "cell_type": "code",
   "execution_count": 7,
   "id": "6fd3c5df-8229-4009-9d10-1b8727950e10",
   "metadata": {},
   "outputs": [],
   "source": [
    "df = pd.get_dummies(df, columns=['AIRLINE', 'ORIGIN', 'DEST'], drop_first=True)"
   ]
  },
  {
   "cell_type": "markdown",
   "id": "2e2893d8-727a-4e92-ae2e-5d88fe0ffc9f",
   "metadata": {},
   "source": [
    "# Define Features and Target"
   ]
  },
  {
   "cell_type": "code",
   "execution_count": 8,
   "id": "4bcf42db-ee0e-49de-90f0-cc6fe7966bdc",
   "metadata": {},
   "outputs": [
    {
     "name": "stdout",
     "output_type": "stream",
     "text": [
      "Shape of X: (66212, 781)\n",
      "Shape of y: (66212,)\n"
     ]
    }
   ],
   "source": [
    "X = df.drop(columns=['ARR_DELAY', 'ELAPSED_TIME', 'ARR_TIME', 'DEP_TIME', 'CANCELLED', 'DIVERTED', 'DOT_CODE'], errors='ignore')\n",
    "y = df['ARR_DELAY']\n",
    "\n",
    "print(f\"Shape of X: {X.shape}\")\n",
    "print(f\"Shape of y: {y.shape}\")"
   ]
  },
  {
   "cell_type": "markdown",
   "id": "18d677ca-441c-4bf4-a82b-2053794855c4",
   "metadata": {},
   "source": [
    "# Define Preprocessing Pipeline"
   ]
  },
  {
   "cell_type": "code",
   "execution_count": 9,
   "id": "2b9601d4-9ee8-4b53-85b9-88f39286efb5",
   "metadata": {},
   "outputs": [],
   "source": [
    "numeric_features = [\n",
    "    'CRS_DEP_HOUR', 'CRS_ARR_HOUR', 'TAXI_OUT', 'TAXI_IN',\n",
    "    'AIR_TIME', 'DISTANCE', 'DELAY_DUE_CARRIER',\n",
    "    'DELAY_DUE_WEATHER', 'DELAY_DUE_NAS', 'DELAY_DUE_SECURITY',\n",
    "    'DELAY_DUE_LATE_AIRCRAFT', 'DAY_OF_WEEK'\n",
    "]\n",
    "\n",
    "preprocessor = ColumnTransformer(transformers=[\n",
    "    ('num', StandardScaler(), numeric_features)\n",
    "])"
   ]
  }
 ],
 "metadata": {
  "kernelspec": {
   "display_name": "Python (tfenv)",
   "language": "python",
   "name": "tfenv"
  },
  "language_info": {
   "codemirror_mode": {
    "name": "ipython",
    "version": 3
   },
   "file_extension": ".py",
   "mimetype": "text/x-python",
   "name": "python",
   "nbconvert_exporter": "python",
   "pygments_lexer": "ipython3",
   "version": "3.10.18"
  }
 },
 "nbformat": 4,
 "nbformat_minor": 5
}
