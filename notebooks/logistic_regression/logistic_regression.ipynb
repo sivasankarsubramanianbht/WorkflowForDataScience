{
 "cells": [
  {
   "cell_type": "code",
   "execution_count": 1,
   "id": "e3dd2845",
   "metadata": {},
   "outputs": [],
   "source": [
    "import pandas as pd\n",
    "import numpy as np\n",
    "import matplotlib.pyplot as plt\n",
    "from sklearn.model_selection import train_test_split, GridSearchCV\n",
    "from sklearn.preprocessing import StandardScaler\n",
    "from sklearn.linear_model import LogisticRegression\n",
    "from sklearn.metrics import classification_report, confusion_matrix, roc_auc_score, precision_recall_curve, f1_score\n",
    "from sklearn.decomposition import PCA"
   ]
  },
  {
   "cell_type": "code",
   "execution_count": 2,
   "id": "49af8c95",
   "metadata": {},
   "outputs": [],
   "source": [
    "df = pd.read_csv(\"C:/Users/sivas/OneDrive/Documents/GitHub/WorkflowForDataScience/datasets/model_input_flight_delay.csv\")"
   ]
  },
  {
   "cell_type": "code",
   "execution_count": 3,
   "id": "beb4133e",
   "metadata": {},
   "outputs": [
    {
     "data": {
      "text/html": [
       "<div>\n",
       "<style scoped>\n",
       "    .dataframe tbody tr th:only-of-type {\n",
       "        vertical-align: middle;\n",
       "    }\n",
       "\n",
       "    .dataframe tbody tr th {\n",
       "        vertical-align: top;\n",
       "    }\n",
       "\n",
       "    .dataframe thead th {\n",
       "        text-align: right;\n",
       "    }\n",
       "</style>\n",
       "<table border=\"1\" class=\"dataframe\">\n",
       "  <thead>\n",
       "    <tr style=\"text-align: right;\">\n",
       "      <th></th>\n",
       "      <th>FL_DATE</th>\n",
       "      <th>AIRLINE</th>\n",
       "      <th>AIRLINE_DOT</th>\n",
       "      <th>AIRLINE_CODE</th>\n",
       "      <th>DOT_CODE</th>\n",
       "      <th>FL_NUMBER</th>\n",
       "      <th>ORIGIN</th>\n",
       "      <th>ORIGIN_CITY</th>\n",
       "      <th>DEST</th>\n",
       "      <th>DEST_CITY</th>\n",
       "      <th>...</th>\n",
       "      <th>DELAY_DUE_CARRIER</th>\n",
       "      <th>DELAY_DUE_WEATHER</th>\n",
       "      <th>DELAY_DUE_NAS</th>\n",
       "      <th>DELAY_DUE_SECURITY</th>\n",
       "      <th>DELAY_DUE_LATE_AIRCRAFT</th>\n",
       "      <th>DELAY_STATUS</th>\n",
       "      <th>dest_state</th>\n",
       "      <th>origin_state</th>\n",
       "      <th>FL_DATE_day_name</th>\n",
       "      <th>FL_DATE_is_weekend</th>\n",
       "    </tr>\n",
       "  </thead>\n",
       "  <tbody>\n",
       "    <tr>\n",
       "      <th>0</th>\n",
       "      <td>2019-03-01</td>\n",
       "      <td>Allegiant Air</td>\n",
       "      <td>Allegiant Air: G4</td>\n",
       "      <td>G4</td>\n",
       "      <td>20368</td>\n",
       "      <td>1668</td>\n",
       "      <td>PGD</td>\n",
       "      <td>Punta Gorda</td>\n",
       "      <td>SPI</td>\n",
       "      <td>Springfield</td>\n",
       "      <td>...</td>\n",
       "      <td>0.0</td>\n",
       "      <td>0.0</td>\n",
       "      <td>0.0</td>\n",
       "      <td>0.0</td>\n",
       "      <td>0.0</td>\n",
       "      <td>0</td>\n",
       "      <td>IL</td>\n",
       "      <td>FL</td>\n",
       "      <td>Friday</td>\n",
       "      <td>False</td>\n",
       "    </tr>\n",
       "    <tr>\n",
       "      <th>1</th>\n",
       "      <td>2021-02-16</td>\n",
       "      <td>American Airlines Inc.</td>\n",
       "      <td>American Airlines Inc.: AA</td>\n",
       "      <td>AA</td>\n",
       "      <td>19805</td>\n",
       "      <td>2437</td>\n",
       "      <td>DFW</td>\n",
       "      <td>Dallas/Fort Worth</td>\n",
       "      <td>LAX</td>\n",
       "      <td>Los Angeles</td>\n",
       "      <td>...</td>\n",
       "      <td>0.0</td>\n",
       "      <td>0.0</td>\n",
       "      <td>0.0</td>\n",
       "      <td>0.0</td>\n",
       "      <td>0.0</td>\n",
       "      <td>1</td>\n",
       "      <td>CA</td>\n",
       "      <td>TX</td>\n",
       "      <td>Tuesday</td>\n",
       "      <td>False</td>\n",
       "    </tr>\n",
       "    <tr>\n",
       "      <th>2</th>\n",
       "      <td>2022-04-12</td>\n",
       "      <td>PSA Airlines Inc.</td>\n",
       "      <td>PSA Airlines Inc.: OH</td>\n",
       "      <td>OH</td>\n",
       "      <td>20397</td>\n",
       "      <td>5560</td>\n",
       "      <td>EWN</td>\n",
       "      <td>New Bern/Morehead/Beaufort</td>\n",
       "      <td>CLT</td>\n",
       "      <td>Charlotte</td>\n",
       "      <td>...</td>\n",
       "      <td>0.0</td>\n",
       "      <td>0.0</td>\n",
       "      <td>0.0</td>\n",
       "      <td>0.0</td>\n",
       "      <td>0.0</td>\n",
       "      <td>0</td>\n",
       "      <td>NC</td>\n",
       "      <td>NC</td>\n",
       "      <td>Tuesday</td>\n",
       "      <td>False</td>\n",
       "    </tr>\n",
       "    <tr>\n",
       "      <th>3</th>\n",
       "      <td>2021-10-13</td>\n",
       "      <td>Southwest Airlines Co.</td>\n",
       "      <td>Southwest Airlines Co.: WN</td>\n",
       "      <td>WN</td>\n",
       "      <td>19393</td>\n",
       "      <td>1944</td>\n",
       "      <td>ABQ</td>\n",
       "      <td>Albuquerque</td>\n",
       "      <td>DEN</td>\n",
       "      <td>Denver</td>\n",
       "      <td>...</td>\n",
       "      <td>10.0</td>\n",
       "      <td>0.0</td>\n",
       "      <td>0.0</td>\n",
       "      <td>0.0</td>\n",
       "      <td>6.0</td>\n",
       "      <td>1</td>\n",
       "      <td>CO</td>\n",
       "      <td>NM</td>\n",
       "      <td>Wednesday</td>\n",
       "      <td>False</td>\n",
       "    </tr>\n",
       "    <tr>\n",
       "      <th>4</th>\n",
       "      <td>2022-06-05</td>\n",
       "      <td>Southwest Airlines Co.</td>\n",
       "      <td>Southwest Airlines Co.: WN</td>\n",
       "      <td>WN</td>\n",
       "      <td>19393</td>\n",
       "      <td>3081</td>\n",
       "      <td>PIT</td>\n",
       "      <td>Pittsburgh</td>\n",
       "      <td>STL</td>\n",
       "      <td>St. Louis</td>\n",
       "      <td>...</td>\n",
       "      <td>0.0</td>\n",
       "      <td>0.0</td>\n",
       "      <td>0.0</td>\n",
       "      <td>0.0</td>\n",
       "      <td>0.0</td>\n",
       "      <td>0</td>\n",
       "      <td>MO</td>\n",
       "      <td>PA</td>\n",
       "      <td>Sunday</td>\n",
       "      <td>True</td>\n",
       "    </tr>\n",
       "  </tbody>\n",
       "</table>\n",
       "<p>5 rows × 37 columns</p>\n",
       "</div>"
      ],
      "text/plain": [
       "      FL_DATE                 AIRLINE                 AIRLINE_DOT  \\\n",
       "0  2019-03-01           Allegiant Air           Allegiant Air: G4   \n",
       "1  2021-02-16  American Airlines Inc.  American Airlines Inc.: AA   \n",
       "2  2022-04-12       PSA Airlines Inc.       PSA Airlines Inc.: OH   \n",
       "3  2021-10-13  Southwest Airlines Co.  Southwest Airlines Co.: WN   \n",
       "4  2022-06-05  Southwest Airlines Co.  Southwest Airlines Co.: WN   \n",
       "\n",
       "  AIRLINE_CODE  DOT_CODE  FL_NUMBER ORIGIN                 ORIGIN_CITY DEST  \\\n",
       "0           G4     20368       1668    PGD                 Punta Gorda  SPI   \n",
       "1           AA     19805       2437    DFW           Dallas/Fort Worth  LAX   \n",
       "2           OH     20397       5560    EWN  New Bern/Morehead/Beaufort  CLT   \n",
       "3           WN     19393       1944    ABQ                 Albuquerque  DEN   \n",
       "4           WN     19393       3081    PIT                  Pittsburgh  STL   \n",
       "\n",
       "     DEST_CITY  ...  DELAY_DUE_CARRIER  DELAY_DUE_WEATHER  DELAY_DUE_NAS  \\\n",
       "0  Springfield  ...                0.0                0.0            0.0   \n",
       "1  Los Angeles  ...                0.0                0.0            0.0   \n",
       "2    Charlotte  ...                0.0                0.0            0.0   \n",
       "3       Denver  ...               10.0                0.0            0.0   \n",
       "4    St. Louis  ...                0.0                0.0            0.0   \n",
       "\n",
       "   DELAY_DUE_SECURITY  DELAY_DUE_LATE_AIRCRAFT  DELAY_STATUS  dest_state  \\\n",
       "0                 0.0                      0.0             0          IL   \n",
       "1                 0.0                      0.0             1          CA   \n",
       "2                 0.0                      0.0             0          NC   \n",
       "3                 0.0                      6.0             1          CO   \n",
       "4                 0.0                      0.0             0          MO   \n",
       "\n",
       "   origin_state  FL_DATE_day_name  FL_DATE_is_weekend  \n",
       "0            FL            Friday               False  \n",
       "1            TX           Tuesday               False  \n",
       "2            NC           Tuesday               False  \n",
       "3            NM         Wednesday               False  \n",
       "4            PA            Sunday                True  \n",
       "\n",
       "[5 rows x 37 columns]"
      ]
     },
     "execution_count": 3,
     "metadata": {},
     "output_type": "execute_result"
    }
   ],
   "source": [
    "df.head()"
   ]
  },
  {
   "cell_type": "code",
   "execution_count": 4,
   "id": "cd47bedc",
   "metadata": {},
   "outputs": [],
   "source": [
    "# Example target column (already binary)\n",
    "target = 'DELAY_STATUS'\n",
    "\n",
    "# Choose relevant predictors\n",
    "features = [\n",
    "    'AIRLINE', 'ORIGIN', 'DEST',\n",
    "    'CRS_DEP_TIME', 'CRS_ARR_TIME',\n",
    "    'CRS_ELAPSED_TIME', 'DISTANCE',\n",
    "    'FL_DATE_day_name', 'FL_DATE_is_weekend'\n",
    "]\n",
    "\n",
    "df_model = df[features + [target]].dropna()\n"
   ]
  },
  {
   "cell_type": "code",
   "execution_count": 5,
   "id": "89eebf5e",
   "metadata": {},
   "outputs": [
    {
     "data": {
      "text/html": [
       "<div>\n",
       "<style scoped>\n",
       "    .dataframe tbody tr th:only-of-type {\n",
       "        vertical-align: middle;\n",
       "    }\n",
       "\n",
       "    .dataframe tbody tr th {\n",
       "        vertical-align: top;\n",
       "    }\n",
       "\n",
       "    .dataframe thead th {\n",
       "        text-align: right;\n",
       "    }\n",
       "</style>\n",
       "<table border=\"1\" class=\"dataframe\">\n",
       "  <thead>\n",
       "    <tr style=\"text-align: right;\">\n",
       "      <th></th>\n",
       "      <th>AIRLINE</th>\n",
       "      <th>ORIGIN</th>\n",
       "      <th>DEST</th>\n",
       "      <th>CRS_DEP_TIME</th>\n",
       "      <th>CRS_ARR_TIME</th>\n",
       "      <th>CRS_ELAPSED_TIME</th>\n",
       "      <th>DISTANCE</th>\n",
       "      <th>FL_DATE_day_name</th>\n",
       "      <th>FL_DATE_is_weekend</th>\n",
       "      <th>DELAY_STATUS</th>\n",
       "    </tr>\n",
       "  </thead>\n",
       "  <tbody>\n",
       "    <tr>\n",
       "      <th>0</th>\n",
       "      <td>Allegiant Air</td>\n",
       "      <td>PGD</td>\n",
       "      <td>SPI</td>\n",
       "      <td>630</td>\n",
       "      <td>810</td>\n",
       "      <td>160.0</td>\n",
       "      <td>994.0</td>\n",
       "      <td>Friday</td>\n",
       "      <td>False</td>\n",
       "      <td>0</td>\n",
       "    </tr>\n",
       "    <tr>\n",
       "      <th>1</th>\n",
       "      <td>American Airlines Inc.</td>\n",
       "      <td>DFW</td>\n",
       "      <td>LAX</td>\n",
       "      <td>1329</td>\n",
       "      <td>1500</td>\n",
       "      <td>211.0</td>\n",
       "      <td>1235.0</td>\n",
       "      <td>Tuesday</td>\n",
       "      <td>False</td>\n",
       "      <td>1</td>\n",
       "    </tr>\n",
       "    <tr>\n",
       "      <th>2</th>\n",
       "      <td>PSA Airlines Inc.</td>\n",
       "      <td>EWN</td>\n",
       "      <td>CLT</td>\n",
       "      <td>625</td>\n",
       "      <td>744</td>\n",
       "      <td>79.0</td>\n",
       "      <td>221.0</td>\n",
       "      <td>Tuesday</td>\n",
       "      <td>False</td>\n",
       "      <td>0</td>\n",
       "    </tr>\n",
       "    <tr>\n",
       "      <th>3</th>\n",
       "      <td>Southwest Airlines Co.</td>\n",
       "      <td>ABQ</td>\n",
       "      <td>DEN</td>\n",
       "      <td>1715</td>\n",
       "      <td>1835</td>\n",
       "      <td>80.0</td>\n",
       "      <td>349.0</td>\n",
       "      <td>Wednesday</td>\n",
       "      <td>False</td>\n",
       "      <td>1</td>\n",
       "    </tr>\n",
       "    <tr>\n",
       "      <th>4</th>\n",
       "      <td>Southwest Airlines Co.</td>\n",
       "      <td>PIT</td>\n",
       "      <td>STL</td>\n",
       "      <td>535</td>\n",
       "      <td>620</td>\n",
       "      <td>105.0</td>\n",
       "      <td>554.0</td>\n",
       "      <td>Sunday</td>\n",
       "      <td>True</td>\n",
       "      <td>0</td>\n",
       "    </tr>\n",
       "  </tbody>\n",
       "</table>\n",
       "</div>"
      ],
      "text/plain": [
       "                  AIRLINE ORIGIN DEST  CRS_DEP_TIME  CRS_ARR_TIME  \\\n",
       "0           Allegiant Air    PGD  SPI           630           810   \n",
       "1  American Airlines Inc.    DFW  LAX          1329          1500   \n",
       "2       PSA Airlines Inc.    EWN  CLT           625           744   \n",
       "3  Southwest Airlines Co.    ABQ  DEN          1715          1835   \n",
       "4  Southwest Airlines Co.    PIT  STL           535           620   \n",
       "\n",
       "   CRS_ELAPSED_TIME  DISTANCE FL_DATE_day_name  FL_DATE_is_weekend  \\\n",
       "0             160.0     994.0           Friday               False   \n",
       "1             211.0    1235.0          Tuesday               False   \n",
       "2              79.0     221.0          Tuesday               False   \n",
       "3              80.0     349.0        Wednesday               False   \n",
       "4             105.0     554.0           Sunday                True   \n",
       "\n",
       "   DELAY_STATUS  \n",
       "0             0  \n",
       "1             1  \n",
       "2             0  \n",
       "3             1  \n",
       "4             0  "
      ]
     },
     "execution_count": 5,
     "metadata": {},
     "output_type": "execute_result"
    }
   ],
   "source": [
    "df_model.head()"
   ]
  },
  {
   "cell_type": "code",
   "execution_count": 6,
   "id": "f68011b9",
   "metadata": {},
   "outputs": [],
   "source": [
    "X = pd.get_dummies(df_model[features], drop_first=True)  # One-hot encoding\n",
    "y = df_model[target]\n"
   ]
  },
  {
   "cell_type": "code",
   "execution_count": 7,
   "id": "fb0cf4dd",
   "metadata": {},
   "outputs": [],
   "source": [
    "X_train, X_test, y_train, y_test = train_test_split(\n",
    "    X, y, test_size=0.2, random_state=42, stratify=y\n",
    ")"
   ]
  },
  {
   "cell_type": "code",
   "execution_count": 8,
   "id": "57a42e4d",
   "metadata": {},
   "outputs": [],
   "source": [
    "scaler = StandardScaler()\n",
    "X_train_scaled = scaler.fit_transform(X_train)\n",
    "X_test_scaled = scaler.transform(X_test)"
   ]
  },
  {
   "cell_type": "code",
   "execution_count": 9,
   "id": "b69bc200",
   "metadata": {},
   "outputs": [
    {
     "name": "stdout",
     "output_type": "stream",
     "text": [
      "Confusion Matrix:\n",
      " [[15903    50]\n",
      " [ 4025    22]]\n",
      "\n",
      "Classification Report:\n",
      "               precision    recall  f1-score   support\n",
      "\n",
      "           0       0.80      1.00      0.89     15953\n",
      "           1       0.31      0.01      0.01      4047\n",
      "\n",
      "    accuracy                           0.80     20000\n",
      "   macro avg       0.55      0.50      0.45     20000\n",
      "weighted avg       0.70      0.80      0.71     20000\n",
      "\n",
      "ROC-AUC Score: 0.6215420046200391\n",
      "CRS_DEP_TIME                    0.290768\n",
      "DISTANCE                        0.222336\n",
      "CRS_ELAPSED_TIME               -0.219904\n",
      "DEST_AGS                       -0.171826\n",
      "DEST_EWR                        0.114198\n",
      "AIRLINE_Delta Air Lines Inc.   -0.112305\n",
      "DEST_DFW                        0.109991\n",
      "DEST_MBS                       -0.105114\n",
      "DEST_SJT                       -0.102324\n",
      "ORIGIN_STX                     -0.099895\n",
      "dtype: float64\n"
     ]
    }
   ],
   "source": [
    "lr = LogisticRegression(max_iter=1000, solver='liblinear')\n",
    "lr.fit(X_train_scaled, y_train)\n",
    "\n",
    "y_pred = lr.predict(X_test_scaled)\n",
    "y_proba = lr.predict_proba(X_test_scaled)[:, 1]\n",
    "\n",
    "print(\"Confusion Matrix:\\n\", confusion_matrix(y_test, y_pred))\n",
    "print(\"\\nClassification Report:\\n\", classification_report(y_test, y_pred))\n",
    "print(\"ROC-AUC Score:\", roc_auc_score(y_test, y_proba))\n",
    "\n",
    "importance = pd.Series(lr.coef_[0], index=X.columns).sort_values(key=abs, ascending=False)\n",
    "print(importance.head(10))"
   ]
  },
  {
   "cell_type": "code",
   "execution_count": 10,
   "id": "25a509e6",
   "metadata": {},
   "outputs": [
    {
     "name": "stdout",
     "output_type": "stream",
     "text": [
      "Confusion Matrix:\n",
      " [[9570 6383]\n",
      " [1680 2367]]\n",
      "\n",
      "Classification Report:\n",
      "               precision    recall  f1-score   support\n",
      "\n",
      "           0       0.85      0.60      0.70     15953\n",
      "           1       0.27      0.58      0.37      4047\n",
      "\n",
      "    accuracy                           0.60     20000\n",
      "   macro avg       0.56      0.59      0.54     20000\n",
      "weighted avg       0.73      0.60      0.64     20000\n",
      "\n",
      "ROC-AUC Score: 0.6212741217169765\n",
      "CRS_DEP_TIME                    0.288955\n",
      "DISTANCE                        0.203020\n",
      "DEST_AGS                       -0.202682\n",
      "CRS_ELAPSED_TIME               -0.197148\n",
      "DEST_MBS                       -0.124191\n",
      "DEST_SJT                       -0.120220\n",
      "ORIGIN_OME                     -0.117628\n",
      "ORIGIN_STX                     -0.116396\n",
      "AIRLINE_Delta Air Lines Inc.   -0.116224\n",
      "DEST_EWR                        0.114470\n",
      "dtype: float64\n"
     ]
    }
   ],
   "source": [
    "lr = LogisticRegression(class_weight='balanced', max_iter=1000, solver='liblinear')\n",
    "\n",
    "lr.fit(X_train_scaled, y_train)\n",
    "\n",
    "y_pred = lr.predict(X_test_scaled)\n",
    "y_proba = lr.predict_proba(X_test_scaled)[:, 1]\n",
    "\n",
    "print(\"Confusion Matrix:\\n\", confusion_matrix(y_test, y_pred))\n",
    "print(\"\\nClassification Report:\\n\", classification_report(y_test, y_pred))\n",
    "print(\"ROC-AUC Score:\", roc_auc_score(y_test, y_proba))\n",
    "\n",
    "importance = pd.Series(lr.coef_[0], index=X.columns).sort_values(key=abs, ascending=False)\n",
    "print(importance.head(10))"
   ]
  },
  {
   "cell_type": "code",
   "execution_count": 19,
   "id": "a330089f",
   "metadata": {},
   "outputs": [
    {
     "name": "stdout",
     "output_type": "stream",
     "text": [
      "ROC-AUC Score: 0.5188562148159738\n"
     ]
    }
   ],
   "source": [
    "y_proba = lr.predict_proba(X_test_scaled)[:, 1]\n",
    "precision, recall, thresholds = precision_recall_curve(y_test, y_proba)\n",
    "\n",
    "# Try a new threshold (e.g., 0.3)\n",
    "new_preds = (y_proba > 0.3).astype(int)\n",
    "print(\"ROC-AUC Score:\", roc_auc_score(y_test, new_preds))"
   ]
  },
  {
   "cell_type": "code",
   "execution_count": 20,
   "id": "60a43c54",
   "metadata": {},
   "outputs": [
    {
     "name": "stdout",
     "output_type": "stream",
     "text": [
      "lbfgs accuracy: 0.5968\n",
      "liblinear accuracy: 0.5968\n",
      "saga accuracy: 0.5964\n"
     ]
    },
    {
     "name": "stderr",
     "output_type": "stream",
     "text": [
      "c:\\Users\\sivas\\OneDrive\\Documents\\GitHub\\WorkflowForDataScience\\venv\\Lib\\site-packages\\sklearn\\linear_model\\_sag.py:348: ConvergenceWarning: The max_iter was reached which means the coef_ did not converge\n",
      "  warnings.warn(\n"
     ]
    }
   ],
   "source": [
    "for solver in ['lbfgs', 'liblinear', 'saga']:\n",
    "    model = LogisticRegression(solver=solver, class_weight='balanced', max_iter=1000)\n",
    "    model.fit(X_train_scaled, y_train)\n",
    "    score = model.score(X_test_scaled, y_test)\n",
    "    print(f\"{solver} accuracy: {score:.4f}\")"
   ]
  },
  {
   "cell_type": "code",
   "execution_count": 22,
   "id": "a585f92c",
   "metadata": {},
   "outputs": [
    {
     "name": "stdout",
     "output_type": "stream",
     "text": [
      "liblinear - F1: 0.3699, ROC-AUC: 0.6213\n",
      "lbfgs - F1: 0.3700, ROC-AUC: 0.6213\n",
      "saga - F1: 0.3692, ROC-AUC: 0.6213\n"
     ]
    },
    {
     "name": "stderr",
     "output_type": "stream",
     "text": [
      "c:\\Users\\sivas\\OneDrive\\Documents\\GitHub\\WorkflowForDataScience\\venv\\Lib\\site-packages\\sklearn\\linear_model\\_sag.py:348: ConvergenceWarning: The max_iter was reached which means the coef_ did not converge\n",
      "  warnings.warn(\n"
     ]
    }
   ],
   "source": [
    "for solver in ['liblinear', 'lbfgs', 'saga']:\n",
    "    model = LogisticRegression(solver=solver, class_weight='balanced', max_iter=1000)\n",
    "    model.fit(X_train_scaled, y_train)\n",
    "    y_pred = model.predict(X_test_scaled)\n",
    "    y_proba = model.predict_proba(X_test_scaled)[:, 1]\n",
    "    print(f\"{solver} - F1: {f1_score(y_test, y_pred):.4f}, ROC-AUC: {roc_auc_score(y_test, y_proba):.4f}\")\n"
   ]
  },
  {
   "cell_type": "code",
   "execution_count": 24,
   "id": "a21b39b1",
   "metadata": {},
   "outputs": [
    {
     "name": "stdout",
     "output_type": "stream",
     "text": [
      "Best AUC: 0.6148679808175271\n",
      "Best Params: {'C': 0.001, 'penalty': 'l2', 'solver': 'lbfgs'}\n"
     ]
    }
   ],
   "source": [
    "param_grid = {\n",
    "    'C': [0.001, 0.01, 0.1, 1, 10, 100],\n",
    "    'penalty': ['l2'],  # 'l1' and 'elasticnet' require saga/liblinear\n",
    "    'solver': ['lbfgs']\n",
    "}\n",
    "\n",
    "grid = GridSearchCV(LogisticRegression(class_weight='balanced', max_iter=1000), param_grid, scoring='roc_auc', cv=3)\n",
    "grid.fit(X_train_scaled, y_train)\n",
    "print(\"Best AUC:\", grid.best_score_)\n",
    "print(\"Best Params:\", grid.best_params_)\n"
   ]
  },
  {
   "cell_type": "code",
   "execution_count": 11,
   "id": "cc8af4d2",
   "metadata": {},
   "outputs": [],
   "source": [
    "def time_of_day(hour):\n",
    "    if 5 <= hour < 10:\n",
    "        return 'morning'\n",
    "    elif 10 <= hour < 15:\n",
    "        return 'midday'\n",
    "    elif 15 <= hour < 20:\n",
    "        return 'evening'\n",
    "    else:\n",
    "        return 'late_night'"
   ]
  },
  {
   "cell_type": "code",
   "execution_count": 12,
   "id": "e04f628e",
   "metadata": {},
   "outputs": [],
   "source": [
    "df['dep_hour'] = df['CRS_DEP_TIME'] // 100\n",
    "df['dep_time_bucket'] = df['dep_hour'].apply(time_of_day)\n",
    "top_airports = df['ORIGIN'].value_counts().head(10).index\n",
    "df['is_busy_origin'] = df['ORIGIN'].isin(top_airports).astype(int)"
   ]
  },
  {
   "cell_type": "code",
   "execution_count": 13,
   "id": "16c92c27",
   "metadata": {},
   "outputs": [],
   "source": [
    "top_destinations = df['DEST'].value_counts().head(10).index\n",
    "df['is_busy_destination'] = df['DEST'].isin(top_destinations).astype(int)"
   ]
  },
  {
   "cell_type": "code",
   "execution_count": 31,
   "id": "e7d4e2d3",
   "metadata": {},
   "outputs": [],
   "source": [
    "# Example target column (already binary)\n",
    "target = 'DELAY_STATUS'\n",
    "\n",
    "# Choose relevant predictors\n",
    "features = [\n",
    "    'AIRLINE', 'ORIGIN', 'DEST',\n",
    "    'CRS_DEP_TIME', 'CRS_ARR_TIME',\n",
    "    'CRS_ELAPSED_TIME', 'DISTANCE',\n",
    "    'FL_DATE_day_name', 'FL_DATE_is_weekend',\n",
    "    'dep_hour',\n",
    "    'is_busy_origin',\n",
    "    'is_busy_destination',\n",
    "    'dep_time_bucket'\n",
    "]\n",
    "\n",
    "df_model = df[features + [target]].dropna()\n"
   ]
  },
  {
   "cell_type": "code",
   "execution_count": 32,
   "id": "73091a5f",
   "metadata": {},
   "outputs": [
    {
     "name": "stdout",
     "output_type": "stream",
     "text": [
      "              precision    recall  f1-score   support\n",
      "\n",
      "           0       0.85      0.60      0.70     15953\n",
      "           1       0.27      0.59      0.37      4047\n",
      "\n",
      "    accuracy                           0.59     20000\n",
      "   macro avg       0.56      0.59      0.54     20000\n",
      "weighted avg       0.73      0.59      0.63     20000\n",
      "\n",
      "ROC-AUC: 0.6225684166661362\n"
     ]
    }
   ],
   "source": [
    "X = pd.get_dummies(df_model[features], drop_first=True)  # One-hot encoding\n",
    "y = df_model[target]\n",
    "\n",
    "X_train, X_test, y_train, y_test = train_test_split(X, y, stratify=y, test_size=0.2, random_state=42)\n",
    "\n",
    "scaler = StandardScaler()\n",
    "X_train_scaled = scaler.fit_transform(X_train)\n",
    "X_test_scaled = scaler.transform(X_test)\n",
    "\n",
    "lr = LogisticRegression(class_weight='balanced', max_iter=1000, solver=\"lbfgs\", penalty=\"l2\", C=0.01)\n",
    "lr.fit(X_train_scaled, y_train)\n",
    "\n",
    "y_pred = lr.predict(X_test_scaled)\n",
    "y_proba = lr.predict_proba(X_test_scaled)[:, 1]\n",
    "\n",
    "print(classification_report(y_test, y_pred))\n",
    "print(\"ROC-AUC:\", roc_auc_score(y_test, y_proba))"
   ]
  },
  {
   "cell_type": "code",
   "execution_count": 37,
   "id": "db834892",
   "metadata": {},
   "outputs": [
    {
     "name": "stdout",
     "output_type": "stream",
     "text": [
      "CRS_DEP_TIME                     0.147759\n",
      "dep_time_bucket_morning         -0.112558\n",
      "DEST_AGS                        -0.112334\n",
      "AIRLINE_Delta Air Lines Inc.    -0.111296\n",
      "AIRLINE_SkyWest Airlines Inc.   -0.093508\n",
      "AIRLINE_Endeavor Air Inc.       -0.090082\n",
      "dep_hour                         0.084853\n",
      "FL_DATE_day_name_Tuesday        -0.082518\n",
      "AIRLINE_Republic Airline        -0.079622\n",
      "DEST_EWR                         0.078364\n",
      "dtype: float64\n"
     ]
    }
   ],
   "source": [
    "importance = pd.Series(lr.coef_[0], index=X.columns).sort_values(key=abs, ascending=False)\n",
    "print(importance.head(10))"
   ]
  },
  {
   "cell_type": "code",
   "execution_count": 40,
   "id": "08f6f513",
   "metadata": {},
   "outputs": [
    {
     "name": "stdout",
     "output_type": "stream",
     "text": [
      "Confusion Matrix:\n",
      " [[9518 6435]\n",
      " [1727 2320]]\n",
      "              precision    recall  f1-score   support\n",
      "\n",
      "           0       0.85      0.60      0.70     15953\n",
      "           1       0.26      0.57      0.36      4047\n",
      "\n",
      "    accuracy                           0.59     20000\n",
      "   macro avg       0.56      0.58      0.53     20000\n",
      "weighted avg       0.73      0.59      0.63     20000\n",
      "\n",
      "ROC-AUC: 0.6177223615125547\n",
      "CRS_DEP_TIME                      0.333526\n",
      "CRS_ELAPSED_TIME                  0.169713\n",
      "DISTANCE                         -0.139580\n",
      "AIRLINE_JetBlue Airways           0.104791\n",
      "AIRLINE_Delta Air Lines Inc.     -0.093860\n",
      "AIRLINE_Southwest Airlines Co.    0.070185\n",
      "AIRLINE_Allegiant Air             0.069353\n",
      "AIRLINE_Spirit Air Lines          0.059310\n",
      "AIRLINE_Endeavor Air Inc.        -0.058434\n",
      "AIRLINE_American Airlines Inc.    0.058370\n",
      "dtype: float64\n"
     ]
    }
   ],
   "source": [
    "minimal_cols = [\n",
    "    'DELAY_STATUS',         # target\n",
    "    'CRS_DEP_TIME',\n",
    "    'DISTANCE',\n",
    "    'CRS_ELAPSED_TIME',\n",
    "    'FL_DATE_is_weekend',\n",
    "    'AIRLINE'\n",
    "    # optionally: 'DEST'\n",
    "]\n",
    "\n",
    "df_min = df[minimal_cols].dropna()\n",
    "df_encoded = pd.get_dummies(df_min, columns=['AIRLINE'], drop_first=True)\n",
    "X = df_encoded.drop('DELAY_STATUS', axis=1)\n",
    "y = df_encoded['DELAY_STATUS']\n",
    "\n",
    "X_train, X_test, y_train, y_test = train_test_split(X, y, stratify=y, test_size=0.2, random_state=42)\n",
    "\n",
    "scaler = StandardScaler()\n",
    "X_train_scaled = scaler.fit_transform(X_train)\n",
    "X_test_scaled = scaler.transform(X_test)\n",
    "\n",
    "lr = LogisticRegression(class_weight='balanced', max_iter=1000)\n",
    "lr.fit(X_train_scaled, y_train)\n",
    "\n",
    "y_pred = lr.predict(X_test_scaled)\n",
    "y_proba = lr.predict_proba(X_test_scaled)[:, 1]\n",
    "\n",
    "print(\"Confusion Matrix:\\n\", confusion_matrix(y_test, y_pred))\n",
    "print(classification_report(y_test, y_pred))\n",
    "print(\"ROC-AUC:\", roc_auc_score(y_test, y_proba))\n",
    "importance = pd.Series(lr.coef_[0], index=X.columns).sort_values(key=abs, ascending=False)\n",
    "print(importance.head(10))"
   ]
  },
  {
   "cell_type": "code",
   "execution_count": 28,
   "id": "4b209b4f",
   "metadata": {},
   "outputs": [
    {
     "name": "stdout",
     "output_type": "stream",
     "text": [
      "PCA reduced from 6 to 5 components\n"
     ]
    },
    {
     "data": {
      "image/png": "[encoded data removed]",
      "text/plain": [
       "<Figure size 640x480 with 1 Axes>"
      ]
     },
     "metadata": {},
     "output_type": "display_data"
    },
    {
     "name": "stdout",
     "output_type": "stream",
     "text": [
      "              precision    recall  f1-score   support\n",
      "\n",
      "           0       0.98      0.94      0.96     15954\n",
      "           1       0.76      0.92      0.83      3476\n",
      "\n",
      "    accuracy                           0.93     19430\n",
      "   macro avg       0.87      0.93      0.89     19430\n",
      "weighted avg       0.94      0.93      0.93     19430\n",
      "\n",
      "ROC-AUC Score: 0.9750459029721957\n"
     ]
    }
   ],
   "source": [
    "# Drop target + categorical features for PCA\n",
    "numeric_cols = [\n",
    "    'CRS_DEP_TIME', 'CRS_ELAPSED_TIME',\n",
    "    'DEP_DELAY', 'TAXI_OUT', 'TAXI_IN', 'AIR_TIME'\n",
    "]\n",
    "\n",
    "df_pca = df[numeric_cols + ['DELAY_STATUS']].dropna()\n",
    "X_numeric = df_pca[numeric_cols]\n",
    "y = df_pca['DELAY_STATUS']\n",
    "\n",
    "scaler = StandardScaler()\n",
    "X_scaled = scaler.fit_transform(X_numeric)\n",
    "\n",
    "# Try to retain 95% of variance\n",
    "pca = PCA(n_components=0.95)\n",
    "X_pca = pca.fit_transform(X_scaled)\n",
    "\n",
    "print(f\"PCA reduced from {X_scaled.shape[1]} to {X_pca.shape[1]} components\")\n",
    "\n",
    "# Optional: plot explained variance\n",
    "plt.plot(np.cumsum(pca.explained_variance_ratio_))\n",
    "plt.xlabel(\"Number of Components\")\n",
    "plt.ylabel(\"Cumulative Explained Variance\")\n",
    "plt.grid(True)\n",
    "plt.tight_layout()\n",
    "plt.show()\n",
    "\n",
    "X_train, X_test, y_train, y_test = train_test_split(X_pca, y, stratify=y, test_size=0.2, random_state=42)\n",
    "\n",
    "lr = LogisticRegression(class_weight='balanced', max_iter=1000)\n",
    "lr.fit(X_train, y_train)\n",
    "\n",
    "y_pred = lr.predict(X_test)\n",
    "y_proba = lr.predict_proba(X_test)[:, 1]\n",
    "\n",
    "print(classification_report(y_test, y_pred))\n",
    "print(\"ROC-AUC Score:\", roc_auc_score(y_test, y_proba))"
   ]
  },
  {
   "cell_type": "code",
   "execution_count": 35,
   "id": "18ad2bba",
   "metadata": {},
   "outputs": [
    {
     "data": {
      "text/plain": [
       "array([[ 0.1706666 , -1.47361187, -0.05933363, -0.13457721,  0.89072067],\n",
       "       [-1.16049354, -1.16311195,  1.04831064, -0.06297355,  0.49792153],\n",
       "       [-1.27648192,  0.71572269, -0.25952155, -0.29945264, -0.24881569],\n",
       "       ...,\n",
       "       [-1.05696113,  0.74905218,  0.1741839 ,  0.64113213, -0.81397475],\n",
       "       [-0.41899742, -0.04909313, -0.07202305, -0.36755727, -0.2188982 ],\n",
       "       [-0.68592089,  0.1926105 , -0.6532092 , -0.22685116,  0.66924725]])"
      ]
     },
     "execution_count": 35,
     "metadata": {},
     "output_type": "execute_result"
    }
   ],
   "source": [
    "\n",
    "X_pca"
   ]
  },
  {
   "cell_type": "code",
   "execution_count": 30,
   "id": "c6705e3a",
   "metadata": {},
   "outputs": [
    {
     "name": "stdout",
     "output_type": "stream",
     "text": [
      "Confusion Matrix:\n",
      " [[14933  1021]\n",
      " [  291  3185]]\n"
     ]
    }
   ],
   "source": [
    "print(\"Confusion Matrix:\\n\", confusion_matrix(y_test, y_pred))"
   ]
  },
  {
   "cell_type": "code",
   "execution_count": 31,
   "id": "c5d899b1",
   "metadata": {},
   "outputs": [
    {
     "name": "stdout",
     "output_type": "stream",
     "text": [
      "DEP_DELAY           8.948929\n",
      "TAXI_OUT            1.332594\n",
      "TAXI_IN             0.897520\n",
      "CRS_ELAPSED_TIME    0.080896\n",
      "CRS_DEP_TIME        0.026714\n",
      "AIR_TIME            0.019252\n",
      "dtype: float64\n"
     ]
    }
   ],
   "source": [
    "# Shape: [n_pca_components x n_original_features]\n",
    "pca_components = pd.DataFrame(pca.components_, columns=numeric_cols)\n",
    "\n",
    "# Logistic regression weights for each PCA component\n",
    "lr_weights = lr.coef_[0]  # shape: [n_pca_components]\n",
    "\n",
    "# Combine: weighted sum of component directions\n",
    "feature_importance = np.dot(lr_weights, pca_components)\n",
    "\n",
    "# Convert to Series\n",
    "importance_series = pd.Series(feature_importance, index=numeric_cols).sort_values(key=abs, ascending=False)\n",
    "\n",
    "print(importance_series.head(10))\n"
   ]
  },
  {
   "cell_type": "code",
   "execution_count": 22,
   "id": "6b4188e6",
   "metadata": {},
   "outputs": [
    {
     "name": "stdout",
     "output_type": "stream",
     "text": [
      "Pipeline saved to logistic_regression_pipeline.pkl\n"
     ]
    }
   ],
   "source": [
    "import joblib\n",
    "from sklearn.pipeline import Pipeline\n",
    "\n",
    "# Define pipeline\n",
    "pipeline = Pipeline([\n",
    "    ('scaler', StandardScaler()),\n",
    "    ('pca', PCA(n_components=0.95)),\n",
    "    ('model', LogisticRegression(class_weight='balanced', max_iter=1000))\n",
    "])\n",
    "\n",
    "# Fit on full training data\n",
    "pipeline.fit(X_train, y_train)\n",
    "\n",
    "# Save pipeline\n",
    "joblib.dump(pipeline, 'logistic_regression_pipeline.pkl')\n",
    "print(\"Pipeline saved to logistic_regression_pipeline.pkl\")\n"
   ]
  },
  {
   "cell_type": "code",
   "execution_count": 27,
   "id": "0e0f6427",
   "metadata": {},
   "outputs": [
    {
     "data": {
      "text/plain": [
       "array([[-1.04993497, -0.03537558,  1.69764334, -0.01718153,  0.1571149 ],\n",
       "       [ 6.04860698,  0.13040313, -0.09062475, -0.12099758,  0.49350363],\n",
       "       [-1.49132107, -0.83437972, -0.41914693, -0.11213918,  0.75499492],\n",
       "       ...,\n",
       "       [ 0.1190127 , -0.34533499,  0.24647999, -0.20416476, -0.08778205],\n",
       "       [-1.03465183,  0.6169573 , -0.71355278, -0.8561598 , -1.01003457],\n",
       "       [-0.23056825,  0.6663246 , -0.02642887, -0.46885542,  0.10917786]])"
      ]
     },
     "execution_count": 27,
     "metadata": {},
     "output_type": "execute_result"
    }
   ],
   "source": [
    "X_train"
   ]
  },
  {
   "cell_type": "code",
   "execution_count": 23,
   "id": "7e41cf84",
   "metadata": {},
   "outputs": [],
   "source": [
    "pipeline = joblib.load('logistic_regression_pipeline.pkl')\n",
    "y_pred = pipeline.predict(X_test)\n"
   ]
  },
  {
   "cell_type": "code",
   "execution_count": null,
   "id": "c4d1ae36",
   "metadata": {},
   "outputs": [],
   "source": []
  },
  {
   "cell_type": "code",
   "execution_count": null,
   "id": "8028628f",
   "metadata": {},
   "outputs": [],
   "source": []
  },
  {
   "cell_type": "code",
   "execution_count": null,
   "id": "24e0373d",
   "metadata": {},
   "outputs": [],
   "source": []
  },
  {
   "cell_type": "code",
   "execution_count": null,
   "id": "a9ec5750",
   "metadata": {},
   "outputs": [],
   "source": []
  },
  {
   "cell_type": "code",
   "execution_count": 49,
   "id": "925b75bc",
   "metadata": {},
   "outputs": [
    {
     "name": "stdout",
     "output_type": "stream",
     "text": [
      "PCA reduced from 7 to 5 components\n"
     ]
    },
    {
     "data": {
      "image/png": "[encoded data removed]",
      "text/plain": [
       "<Figure size 640x480 with 1 Axes>"
      ]
     },
     "metadata": {},
     "output_type": "display_data"
    },
    {
     "name": "stdout",
     "output_type": "stream",
     "text": [
      "Confusion Matrix:\n",
      " [[10950  5004]\n",
      " [ 1461  2015]]\n",
      "              precision    recall  f1-score   support\n",
      "\n",
      "           0       0.88      0.69      0.77     15954\n",
      "           1       0.29      0.58      0.38      3476\n",
      "\n",
      "    accuracy                           0.67     19430\n",
      "   macro avg       0.58      0.63      0.58     19430\n",
      "weighted avg       0.78      0.67      0.70     19430\n",
      "\n",
      "ROC-AUC Score: 0.6958216718577994\n"
     ]
    }
   ],
   "source": [
    "# Drop target + categorical features for PCA\n",
    "numeric_cols = [\n",
    "    'CRS_DEP_TIME', 'DISTANCE', 'CRS_ELAPSED_TIME',\n",
    "    'TAXI_OUT', 'TAXI_IN', 'AIR_TIME',\n",
    "    'FL_DATE_is_weekend'\n",
    "]\n",
    "\n",
    "df_pca = df[numeric_cols + ['DELAY_STATUS']].dropna()\n",
    "X_numeric = df_pca[numeric_cols]\n",
    "y = df_pca['DELAY_STATUS']\n",
    "\n",
    "scaler = StandardScaler()\n",
    "X_scaled = scaler.fit_transform(X_numeric)\n",
    "\n",
    "# Try to retain 95% of variance\n",
    "pca = PCA(n_components=0.95)\n",
    "X_pca = pca.fit_transform(X_scaled)\n",
    "\n",
    "print(f\"PCA reduced from {X_scaled.shape[1]} to {X_pca.shape[1]} components\")\n",
    "\n",
    "# Optional: plot explained variance\n",
    "plt.plot(np.cumsum(pca.explained_variance_ratio_))\n",
    "plt.xlabel(\"Number of Components\")\n",
    "plt.ylabel(\"Cumulative Explained Variance\")\n",
    "plt.grid(True)\n",
    "plt.tight_layout()\n",
    "plt.show()\n",
    "\n",
    "X_train, X_test, y_train, y_test = train_test_split(X_pca, y, stratify=y, test_size=0.2, random_state=42)\n",
    "\n",
    "lr = LogisticRegression(class_weight='balanced', max_iter=1000)\n",
    "lr.fit(X_train, y_train)\n",
    "\n",
    "y_pred = lr.predict(X_test)\n",
    "y_proba = lr.predict_proba(X_test)[:, 1]\n",
    "\n",
    "print(\"Confusion Matrix:\\n\", confusion_matrix(y_test, y_pred))\n",
    "print(classification_report(y_test, y_pred))\n",
    "print(\"ROC-AUC Score:\", roc_auc_score(y_test, y_proba))"
   ]
  },
  {
   "cell_type": "code",
   "execution_count": 50,
   "id": "f4bfa491",
   "metadata": {},
   "outputs": [
    {
     "name": "stdout",
     "output_type": "stream",
     "text": [
      "TAXI_OUT              0.539083\n",
      "CRS_DEP_TIME          0.417621\n",
      "TAXI_IN               0.298626\n",
      "CRS_ELAPSED_TIME      0.022958\n",
      "FL_DATE_is_weekend    0.013583\n",
      "AIR_TIME              0.003963\n",
      "DISTANCE             -0.003605\n",
      "dtype: float64\n"
     ]
    }
   ],
   "source": [
    "# Shape: [n_pca_components x n_original_features]\n",
    "pca_components = pd.DataFrame(pca.components_, columns=numeric_cols)\n",
    "\n",
    "# Logistic regression weights for each PCA component\n",
    "lr_weights = lr.coef_[0]  # shape: [n_pca_components]\n",
    "\n",
    "# Combine: weighted sum of component directions\n",
    "feature_importance = np.dot(lr_weights, pca_components)\n",
    "\n",
    "# Convert to Series\n",
    "importance_series = pd.Series(feature_importance, index=numeric_cols).sort_values(key=abs, ascending=False)\n",
    "\n",
    "print(importance_series.head(10))\n"
   ]
  },
  {
   "cell_type": "code",
   "execution_count": 51,
   "id": "a289573f",
   "metadata": {},
   "outputs": [
    {
     "name": "stdout",
     "output_type": "stream",
     "text": [
      "PCA reduced from 5 to 3 components\n"
     ]
    },
    {
     "data": {
      "image/png": "[encoded data removed]",
      "text/plain": [
       "<Figure size 640x480 with 1 Axes>"
      ]
     },
     "metadata": {},
     "output_type": "display_data"
    },
    {
     "name": "stdout",
     "output_type": "stream",
     "text": [
      "Confusion Matrix:\n",
      " [[9219 6735]\n",
      " [1378 2098]]\n",
      "              precision    recall  f1-score   support\n",
      "\n",
      "           0       0.87      0.58      0.69     15954\n",
      "           1       0.24      0.60      0.34      3476\n",
      "\n",
      "    accuracy                           0.58     19430\n",
      "   macro avg       0.55      0.59      0.52     19430\n",
      "weighted avg       0.76      0.58      0.63     19430\n",
      "\n",
      "ROC-AUC Score: 0.6170341140445063\n",
      "CRS_DEP_TIME          0.361330\n",
      "DISTANCE              0.029015\n",
      "AIR_TIME              0.026704\n",
      "CRS_ELAPSED_TIME      0.025586\n",
      "FL_DATE_is_weekend   -0.001580\n",
      "dtype: float64\n"
     ]
    }
   ],
   "source": [
    "# Drop target + categorical features for PCA\n",
    "numeric_cols = [\n",
    "    'CRS_DEP_TIME', 'DISTANCE', 'CRS_ELAPSED_TIME',\n",
    "    'AIR_TIME',\n",
    "    'FL_DATE_is_weekend'\n",
    "]\n",
    "\n",
    "df_pca = df[numeric_cols + ['DELAY_STATUS']].dropna()\n",
    "X_numeric = df_pca[numeric_cols]\n",
    "y = df_pca['DELAY_STATUS']\n",
    "\n",
    "scaler = StandardScaler()\n",
    "X_scaled = scaler.fit_transform(X_numeric)\n",
    "\n",
    "# Try to retain 95% of variance\n",
    "pca = PCA(n_components=0.95)\n",
    "X_pca = pca.fit_transform(X_scaled)\n",
    "\n",
    "print(f\"PCA reduced from {X_scaled.shape[1]} to {X_pca.shape[1]} components\")\n",
    "\n",
    "# Optional: plot explained variance\n",
    "plt.plot(np.cumsum(pca.explained_variance_ratio_))\n",
    "plt.xlabel(\"Number of Components\")\n",
    "plt.ylabel(\"Cumulative Explained Variance\")\n",
    "plt.grid(True)\n",
    "plt.tight_layout()\n",
    "plt.show()\n",
    "\n",
    "X_train, X_test, y_train, y_test = train_test_split(X_pca, y, stratify=y, test_size=0.2, random_state=42)\n",
    "\n",
    "lr = LogisticRegression(class_weight='balanced', max_iter=1000)\n",
    "lr.fit(X_train, y_train)\n",
    "\n",
    "y_pred = lr.predict(X_test)\n",
    "y_proba = lr.predict_proba(X_test)[:, 1]\n",
    "\n",
    "print(\"Confusion Matrix:\\n\", confusion_matrix(y_test, y_pred))\n",
    "print(classification_report(y_test, y_pred))\n",
    "print(\"ROC-AUC Score:\", roc_auc_score(y_test, y_proba))\n",
    "\n",
    "# Shape: [n_pca_components x n_original_features]\n",
    "pca_components = pd.DataFrame(pca.components_, columns=numeric_cols)\n",
    "\n",
    "# Logistic regression weights for each PCA component\n",
    "lr_weights = lr.coef_[0]  # shape: [n_pca_components]\n",
    "\n",
    "# Combine: weighted sum of component directions\n",
    "feature_importance = np.dot(lr_weights, pca_components)\n",
    "\n",
    "# Convert to Series\n",
    "importance_series = pd.Series(feature_importance, index=numeric_cols).sort_values(key=abs, ascending=False)\n",
    "\n",
    "print(importance_series.head(10))\n"
   ]
  },
  {
   "cell_type": "code",
   "execution_count": 72,
   "id": "c3c83bbf",
   "metadata": {},
   "outputs": [
    {
     "name": "stdout",
     "output_type": "stream",
     "text": [
      "PCA reduced from 16 to 10 components\n"
     ]
    },
    {
     "data": {
      "image/png": "[encoded data removed]",
      "text/plain": [
       "<Figure size 640x480 with 1 Axes>"
      ]
     },
     "metadata": {},
     "output_type": "display_data"
    },
    {
     "name": "stdout",
     "output_type": "stream",
     "text": [
      "Confusion Matrix:\n",
      " [[8876 7078]\n",
      " [1295 2181]]\n",
      "              precision    recall  f1-score   support\n",
      "\n",
      "           0       0.87      0.56      0.68     15954\n",
      "           1       0.24      0.63      0.34      3476\n",
      "\n",
      "    accuracy                           0.57     19430\n",
      "   macro avg       0.55      0.59      0.51     19430\n",
      "weighted avg       0.76      0.57      0.62     19430\n",
      "\n",
      "ROC-AUC Score: 0.6210186709113211\n",
      "CRS_DEP_TIME                  0.145600\n",
      "dep_hour                      0.145409\n",
      "dep_time_bucket_morning      -0.122203\n",
      "dep_time_bucket_late_night   -0.048251\n",
      "dep_time_bucket_midday       -0.047601\n",
      "FL_DATE_day_name_Tuesday     -0.035574\n",
      "FL_DATE_day_name_Thursday     0.035218\n",
      "FL_DATE_day_name_Wednesday   -0.029430\n",
      "AIR_TIME                      0.029157\n",
      "CRS_ELAPSED_TIME              0.028653\n",
      "dtype: float64\n"
     ]
    }
   ],
   "source": [
    "# Drop target + categorical features for PCA\n",
    "features = [\n",
    "    'CRS_DEP_TIME', 'DISTANCE', 'CRS_ELAPSED_TIME',\n",
    "    'AIR_TIME',\n",
    "    'FL_DATE_is_weekend', 'dep_hour','dep_time_bucket','is_busy_destination','FL_DATE_day_name'\n",
    "]\n",
    "\n",
    "df_subset = df[features + ['DELAY_STATUS']].dropna()\n",
    "\n",
    "df_encoded = pd.get_dummies(df_subset, columns=['dep_time_bucket','FL_DATE_day_name'], drop_first=True)\n",
    "\n",
    "X = df_encoded.drop('DELAY_STATUS', axis=1)\n",
    "y = df_encoded['DELAY_STATUS']\n",
    "\n",
    "scaler = StandardScaler()\n",
    "X_scaled = scaler.fit_transform(X)\n",
    "\n",
    "# Try to retain 95% of variance\n",
    "pca = PCA(n_components=0.95)\n",
    "X_pca = pca.fit_transform(X_scaled)\n",
    "\n",
    "print(f\"PCA reduced from {X_scaled.shape[1]} to {X_pca.shape[1]} components\")\n",
    "\n",
    "# Optional: plot explained variance\n",
    "plt.plot(np.cumsum(pca.explained_variance_ratio_))\n",
    "plt.xlabel(\"Number of Components\")\n",
    "plt.ylabel(\"Cumulative Explained Variance\")\n",
    "plt.grid(True)\n",
    "plt.tight_layout()\n",
    "plt.show()\n",
    "\n",
    "X_train, X_test, y_train, y_test = train_test_split(X_pca, y, stratify=y, test_size=0.2, random_state=42)\n",
    "\n",
    "lr = LogisticRegression(class_weight='balanced', max_iter=1000)\n",
    "lr.fit(X_train, y_train)\n",
    "\n",
    "y_pred = lr.predict(X_test)\n",
    "y_proba = lr.predict_proba(X_test)[:, 1]\n",
    "\n",
    "print(\"Confusion Matrix:\\n\", confusion_matrix(y_test, y_pred))\n",
    "print(classification_report(y_test, y_pred))\n",
    "print(\"ROC-AUC Score:\", roc_auc_score(y_test, y_proba))\n",
    "\n",
    "pca_importance = pd.Series(np.dot(lr.coef_[0], pca.components_), index=X.columns).sort_values(key=abs, ascending=False)\n",
    "print(pca_importance.head(10))\n"
   ]
  },
  {
   "cell_type": "code",
   "execution_count": null,
   "id": "a6894f37",
   "metadata": {},
   "outputs": [],
   "source": []
  }
 ],
 "metadata": {
  "kernelspec": {
   "display_name": "venv",
   "language": "python",
   "name": "python3"
  },
  "language_info": {
   "codemirror_mode": {
    "name": "ipython",
    "version": 3
   },
   "file_extension": ".py",
   "mimetype": "text/x-python",
   "name": "python",
   "nbconvert_exporter": "python",
   "pygments_lexer": "ipython3",
   "version": "3.11.8"
  }
 },
 "nbformat": 4,
 "nbformat_minor": 5
}
